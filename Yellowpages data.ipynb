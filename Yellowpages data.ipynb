{
  "cells": [
    {
      "cell_type": "code",
      "source": [
        "import requests\n",
        "from bs4 import BeautifulSoup as bs\n",
        "import pandas as pd\n",
        "\n",
        "def listinfo(url):\n",
        "    urllist = [url + \"/\" + str(i) for i in range(1, 17)]  # Assuming there are 16 pages\n",
        "    headers = {\n",
        "        \"User-Agent\": \"Mozilla/5.0 (Windows NT 10.0; Win64; x64) AppleWebKit/537.36 (KHTML, like Gecko) Chrome/58.0.3029.110 Safari/537.36\"\n",
        "    }\n",
        "    name1 = []\n",
        "    place1 = []\n",
        "    contact1 = []\n",
        "\n",
        "    for u in urllist:\n",
        "        r = requests.get(u, headers=headers)\n",
        "        soup = bs(r.text, \"html.parser\")\n",
        "        s = soup.find_all(\"div\", class_=\"listing-info listpopular\")\n",
        "        for i in s:\n",
        "            n = i.find(\"h3\", class_=\"title\").text\n",
        "            p = i.find(\"li\", class_=\"place-location\").text\n",
        "            c = i.find(\"li\", class_=\"float-sm-right\").text\n",
        "            name1.append(n)\n",
        "            place1.append(p)\n",
        "            contact1.append(c)\n",
        "\n",
        "    df = pd.DataFrame({\"Name\": name1, \"Location\": place1, \"Contact\": contact1})\n",
        "    df.to_csv(\"yellowpages_data.csv\", index=False)\n",
        "\n",
        "url = \"https://yellowpages.org.in/garments-readymade/15\"\n",
        "listinfo(url)\n"
      ],
      "metadata": {
        "id": "560x6wQtnao2"
      },
      "execution_count": 5,
      "outputs": []
    },
    {
      "cell_type": "code",
      "source": [],
      "metadata": {
        "id": "pF2RxGK7ocDy"
      },
      "execution_count": null,
      "outputs": []
    }
  ],
  "metadata": {
    "colab": {
      "provenance": []
    },
    "kernelspec": {
      "display_name": "Python 3",
      "name": "python3"
    },
    "language_info": {
      "name": "python"
    }
  },
  "nbformat": 4,
  "nbformat_minor": 0
}